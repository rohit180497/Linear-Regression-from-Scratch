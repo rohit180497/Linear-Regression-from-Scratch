{
 "cells": [
  {
   "cell_type": "code",
   "execution_count": 1,
   "metadata": {},
   "outputs": [],
   "source": [
    "import numpy as np\n",
    "import pandas as pd\n",
    "import seaborn as sns\n",
    "%matplotlib inline\n",
    "import matplotlib.pyplot as plt\n",
    "# plt.style.use('seaborn')"
   ]
  },
  {
   "cell_type": "markdown",
   "metadata": {},
   "source": [
    "## Loading the Data"
   ]
  },
  {
   "cell_type": "code",
   "execution_count": 4,
   "metadata": {},
   "outputs": [
    {
     "data": {
      "text/html": [
       "<div>\n",
       "<style scoped>\n",
       "    .dataframe tbody tr th:only-of-type {\n",
       "        vertical-align: middle;\n",
       "    }\n",
       "\n",
       "    .dataframe tbody tr th {\n",
       "        vertical-align: top;\n",
       "    }\n",
       "\n",
       "    .dataframe thead th {\n",
       "        text-align: right;\n",
       "    }\n",
       "</style>\n",
       "<table border=\"1\" class=\"dataframe\">\n",
       "  <thead>\n",
       "    <tr style=\"text-align: right;\">\n",
       "      <th></th>\n",
       "      <th>MedInc</th>\n",
       "      <th>HouseAge</th>\n",
       "      <th>AveRooms</th>\n",
       "      <th>AveBedrms</th>\n",
       "      <th>Population</th>\n",
       "      <th>AveOccup</th>\n",
       "      <th>Latitude</th>\n",
       "      <th>Longitude</th>\n",
       "      <th>PRICE</th>\n",
       "    </tr>\n",
       "  </thead>\n",
       "  <tbody>\n",
       "    <tr>\n",
       "      <th>0</th>\n",
       "      <td>8.3252</td>\n",
       "      <td>41.0</td>\n",
       "      <td>6.984127</td>\n",
       "      <td>1.023810</td>\n",
       "      <td>322.0</td>\n",
       "      <td>2.555556</td>\n",
       "      <td>37.88</td>\n",
       "      <td>-122.23</td>\n",
       "      <td>4.526</td>\n",
       "    </tr>\n",
       "    <tr>\n",
       "      <th>1</th>\n",
       "      <td>8.3014</td>\n",
       "      <td>21.0</td>\n",
       "      <td>6.238137</td>\n",
       "      <td>0.971880</td>\n",
       "      <td>2401.0</td>\n",
       "      <td>2.109842</td>\n",
       "      <td>37.86</td>\n",
       "      <td>-122.22</td>\n",
       "      <td>3.585</td>\n",
       "    </tr>\n",
       "    <tr>\n",
       "      <th>2</th>\n",
       "      <td>7.2574</td>\n",
       "      <td>52.0</td>\n",
       "      <td>8.288136</td>\n",
       "      <td>1.073446</td>\n",
       "      <td>496.0</td>\n",
       "      <td>2.802260</td>\n",
       "      <td>37.85</td>\n",
       "      <td>-122.24</td>\n",
       "      <td>3.521</td>\n",
       "    </tr>\n",
       "    <tr>\n",
       "      <th>3</th>\n",
       "      <td>5.6431</td>\n",
       "      <td>52.0</td>\n",
       "      <td>5.817352</td>\n",
       "      <td>1.073059</td>\n",
       "      <td>558.0</td>\n",
       "      <td>2.547945</td>\n",
       "      <td>37.85</td>\n",
       "      <td>-122.25</td>\n",
       "      <td>3.413</td>\n",
       "    </tr>\n",
       "    <tr>\n",
       "      <th>4</th>\n",
       "      <td>3.8462</td>\n",
       "      <td>52.0</td>\n",
       "      <td>6.281853</td>\n",
       "      <td>1.081081</td>\n",
       "      <td>565.0</td>\n",
       "      <td>2.181467</td>\n",
       "      <td>37.85</td>\n",
       "      <td>-122.25</td>\n",
       "      <td>3.422</td>\n",
       "    </tr>\n",
       "  </tbody>\n",
       "</table>\n",
       "</div>"
      ],
      "text/plain": [
       "   MedInc  HouseAge  AveRooms  AveBedrms  Population  AveOccup  Latitude  \\\n",
       "0  8.3252      41.0  6.984127   1.023810       322.0  2.555556     37.88   \n",
       "1  8.3014      21.0  6.238137   0.971880      2401.0  2.109842     37.86   \n",
       "2  7.2574      52.0  8.288136   1.073446       496.0  2.802260     37.85   \n",
       "3  5.6431      52.0  5.817352   1.073059       558.0  2.547945     37.85   \n",
       "4  3.8462      52.0  6.281853   1.081081       565.0  2.181467     37.85   \n",
       "\n",
       "   Longitude  PRICE  \n",
       "0    -122.23  4.526  \n",
       "1    -122.22  3.585  \n",
       "2    -122.24  3.521  \n",
       "3    -122.25  3.413  \n",
       "4    -122.25  3.422  "
      ]
     },
     "execution_count": 4,
     "metadata": {},
     "output_type": "execute_result"
    }
   ],
   "source": [
    "from sklearn.datasets import fetch_california_housing\n",
    "cali = fetch_california_housing(as_frame=True)\n",
    "data = pd.DataFrame(cali.data)\n",
    "data.columns = cali.feature_names\n",
    "data['PRICE'] = cali.target\n",
    "data.head()"
   ]
  },
  {
   "cell_type": "code",
   "execution_count": 5,
   "metadata": {},
   "outputs": [
    {
     "data": {
      "text/plain": [
       "(20640, 9)"
      ]
     },
     "execution_count": 5,
     "metadata": {},
     "output_type": "execute_result"
    }
   ],
   "source": [
    "data.shape"
   ]
  },
  {
   "cell_type": "code",
   "execution_count": 6,
   "metadata": {},
   "outputs": [
    {
     "data": {
      "text/plain": [
       "MedInc        0\n",
       "HouseAge      0\n",
       "AveRooms      0\n",
       "AveBedrms     0\n",
       "Population    0\n",
       "AveOccup      0\n",
       "Latitude      0\n",
       "Longitude     0\n",
       "PRICE         0\n",
       "dtype: int64"
      ]
     },
     "execution_count": 6,
     "metadata": {},
     "output_type": "execute_result"
    }
   ],
   "source": [
    "data.isna().sum()"
   ]
  },
  {
   "cell_type": "markdown",
   "metadata": {},
   "source": [
    "### Convert Data to Numpy Arrays"
   ]
  },
  {
   "cell_type": "code",
   "execution_count": 7,
   "metadata": {},
   "outputs": [
    {
     "name": "stdout",
     "output_type": "stream",
     "text": [
      "(20640, 8)\n",
      "(20640, 1)\n"
     ]
    }
   ],
   "source": [
    "Y = data[['PRICE']].to_numpy()\n",
    "X = data[cali.feature_names].to_numpy()\n",
    "print(X.shape)\n",
    "print(Y.shape)"
   ]
  },
  {
   "cell_type": "markdown",
   "metadata": {},
   "source": [
    "## Vectorized Implementation\n",
    "Most mathematical formulae that you learn about for Linear Regression are in scalar format. While it is easy to convert those into Python functions using simple for loops, we will take a minute to understand why vectorized implementations are so important and how to do them intuitively. "
   ]
  },
  {
   "cell_type": "code",
   "execution_count": 8,
   "metadata": {},
   "outputs": [
    {
     "data": {
      "text/plain": [
       "array([[1, 2],\n",
       "       [3, 4]])"
      ]
     },
     "metadata": {},
     "output_type": "display_data"
    },
    {
     "data": {
      "text/plain": [
       "array([[1, 1],\n",
       "       [1, 1]])"
      ]
     },
     "metadata": {},
     "output_type": "display_data"
    }
   ],
   "source": [
    "# define two numpy arrays\n",
    "a = np.array([[1,2],[3,4]])\n",
    "b = np.array([[1,1],[1,1]])\n",
    "\n",
    "display(a)\n",
    "display(b)"
   ]
  },
  {
   "cell_type": "code",
   "execution_count": 9,
   "metadata": {},
   "outputs": [
    {
     "data": {
      "text/plain": [
       "array([[2, 3],\n",
       "       [4, 5]])"
      ]
     },
     "metadata": {},
     "output_type": "display_data"
    },
    {
     "data": {
      "text/plain": [
       "array([[0, 1],\n",
       "       [2, 3]])"
      ]
     },
     "metadata": {},
     "output_type": "display_data"
    }
   ],
   "source": [
    "# Numpy Array Addition \n",
    "display(a + b)\n",
    "\n",
    "# Numpy Array Subtraction\n",
    "display(a - b)"
   ]
  },
  {
   "cell_type": "code",
   "execution_count": 10,
   "metadata": {},
   "outputs": [
    {
     "data": {
      "text/plain": [
       "array([[1, 2],\n",
       "       [3, 4]])"
      ]
     },
     "execution_count": 10,
     "metadata": {},
     "output_type": "execute_result"
    }
   ],
   "source": [
    "# Element-wise Multiplication\n",
    "a*b # each element of a multiply with each element of b"
   ]
  },
  {
   "cell_type": "code",
   "execution_count": 16,
   "metadata": {},
   "outputs": [
    {
     "data": {
      "text/plain": [
       "array([[1, 2],\n",
       "       [3, 4]])"
      ]
     },
     "metadata": {},
     "output_type": "display_data"
    },
    {
     "data": {
      "text/plain": [
       "array([[1, 1],\n",
       "       [1, 1]])"
      ]
     },
     "metadata": {},
     "output_type": "display_data"
    }
   ],
   "source": [
    "display(a)\n",
    "display(b)"
   ]
  },
  {
   "cell_type": "code",
   "execution_count": 11,
   "metadata": {},
   "outputs": [
    {
     "data": {
      "text/plain": [
       "array([[3, 3],\n",
       "       [7, 7]])"
      ]
     },
     "execution_count": 11,
     "metadata": {},
     "output_type": "execute_result"
    }
   ],
   "source": [
    "# Dot Product\n",
    "a@b #it multiplies each row of a with column of b"
   ]
  },
  {
   "cell_type": "code",
   "execution_count": 12,
   "metadata": {},
   "outputs": [
    {
     "data": {
      "text/plain": [
       "array([[3, 3],\n",
       "       [7, 7]])"
      ]
     },
     "execution_count": 12,
     "metadata": {},
     "output_type": "execute_result"
    }
   ],
   "source": [
    "a.dot(b)"
   ]
  },
  {
   "cell_type": "code",
   "execution_count": 13,
   "metadata": {},
   "outputs": [
    {
     "data": {
      "text/plain": [
       "array([[3, 3],\n",
       "       [7, 7]])"
      ]
     },
     "execution_count": 13,
     "metadata": {},
     "output_type": "execute_result"
    }
   ],
   "source": [
    "np.dot(a, b) #it multiplies each row of a with column of b"
   ]
  },
  {
   "cell_type": "markdown",
   "metadata": {},
   "source": [
    "### Linear Regression Example\n",
    "Here we will be looking at the most basic linear regression that uses root means squared error as the loss function. While we are not building a full class yet, it is important to know the difference between using a for-loop-based implementation versus a vectorized implementation."
   ]
  },
  {
   "attachments": {
    "image-2.png": {
     "image/png": "[encoded data removed]"
    },
    "image.png": {
     "image/png": "[encoded data removed]"
    }
   },
   "cell_type": "markdown",
   "metadata": {},
   "source": [
    "#### The Hypothesis (Prediction)\n",
    "A linear regression is simply the multiplication of each weight with the corresponding variable. Formally, the hypothesis is as follows:\n",
    "\n",
    "basic line equation: y= mx + c\n",
    "multiple elements: y= m1x1 + m2x2 + m3x3+ .........+ MnXn\n",
    "![hypothesis](images/hypothesis.png) ![image.png](attachment:image.png)\n",
    "![image-2.png](attachment:image-2.png)"
   ]
  },
  {
   "cell_type": "code",
   "execution_count": 14,
   "metadata": {},
   "outputs": [
    {
     "data": {
      "text/plain": [
       "(20640, 9)"
      ]
     },
     "execution_count": 14,
     "metadata": {},
     "output_type": "execute_result"
    }
   ],
   "source": [
    "data.shape"
   ]
  },
  {
   "cell_type": "code",
   "execution_count": 15,
   "metadata": {},
   "outputs": [
    {
     "data": {
      "text/plain": [
       "(8, 1)"
      ]
     },
     "execution_count": 15,
     "metadata": {},
     "output_type": "execute_result"
    }
   ],
   "source": [
    "# Initialize weights\n",
    "weights = np.ones(shape=(X.shape[1], 1))\n",
    "\n",
    "weights.shape"
   ]
  },
  {
   "cell_type": "code",
   "execution_count": 20,
   "metadata": {},
   "outputs": [
    {
     "data": {
      "text/plain": [
       "array([[1.],\n",
       "       [1.],\n",
       "       [1.],\n",
       "       [1.],\n",
       "       [1.],\n",
       "       [1.],\n",
       "       [1.],\n",
       "       [1.]])"
      ]
     },
     "execution_count": 20,
     "metadata": {},
     "output_type": "execute_result"
    }
   ],
   "source": [
    "weights"
   ]
  },
  {
   "cell_type": "markdown",
   "metadata": {},
   "source": [
    "#### Hypothesis using for loop"
   ]
  },
  {
   "cell_type": "code",
   "execution_count": 27,
   "metadata": {},
   "outputs": [
    {
     "data": {
      "text/plain": [
       "array([   8.3252    ,   41.        ,    6.98412698,    1.02380952,\n",
       "        322.        ,    2.55555556,   37.88      , -122.23      ])"
      ]
     },
     "metadata": {},
     "output_type": "display_data"
    },
    {
     "name": "stdout",
     "output_type": "stream",
     "text": [
      "(8,)\n",
      "theta: [1.] x:  8.3252 hypothesis:  [8.3252]\n",
      "theta: [1.] x:  41.0 hypothesis:  [49.3252]\n",
      "theta: [1.] x:  6.984126984126984 hypothesis:  [56.30932698]\n",
      "theta: [1.] x:  1.0238095238095237 hypothesis:  [57.33313651]\n",
      "theta: [1.] x:  322.0 hypothesis:  [379.33313651]\n",
      "theta: [1.] x:  2.5555555555555554 hypothesis:  [381.88869206]\n",
      "theta: [1.] x:  37.88 hypothesis:  [419.76869206]\n",
      "theta: [1.] x:  -122.23 hypothesis:  [297.53869206]\n",
      "[array([297.53869206])]\n"
     ]
    }
   ],
   "source": [
    "## interpretation for single row in dataset\n",
    "all_predictions = []\n",
    "for data_point in X:\n",
    "    display(data_point)\n",
    "    print(data_point.shape)\n",
    "    hypothesis= 0\n",
    "    for theta , x in zip(weights, data_point):\n",
    "        hypothesis+= theta*x\n",
    "        print(\"theta:\" , theta ,\"x: \", x, \"hypothesis: \",hypothesis)\n",
    "    all_predictions.append(hypothesis)\n",
    "    print(all_predictions)\n",
    "    break"
   ]
  },
  {
   "cell_type": "code",
   "execution_count": 25,
   "metadata": {},
   "outputs": [
    {
     "name": "stdout",
     "output_type": "stream",
     "text": [
      "CPU times: total: 0 ns\n",
      "Wall time: 249 ms\n"
     ]
    },
    {
     "data": {
      "text/plain": [
       "[array([297.53869206]),\n",
       " array([2355.2612594]),\n",
       " array([483.03124181]),\n",
       " array([540.68145616]),\n",
       " array([545.99060154]),\n",
       " array([392.64198135]),\n",
       " array([1073.26077315]),\n",
       " array([1135.35760433]),\n",
       " array([1173.09905546]),\n",
       " array([1530.41425322])]"
      ]
     },
     "execution_count": 25,
     "metadata": {},
     "output_type": "execute_result"
    }
   ],
   "source": [
    "%%time\n",
    "all_predictions = []\n",
    "for data_point in X:\n",
    "    hypothesis = 0\n",
    "    for theta, x in zip(weights, data_point):\n",
    "        hypothesis += theta*x\n",
    "    \n",
    "    all_predictions.append(hypothesis)\n",
    "    \n",
    "all_predictions[0:10]"
   ]
  },
  {
   "cell_type": "markdown",
   "metadata": {},
   "source": [
    "##### Hypothesis using Vectorized Operations\n",
    "If you look at the code closely, you will notice that all we are doing is we are going over each **row** of the data, and multiplying the weights with all the columns. This means that if the data is of shape (m, n), and the weights are of shape (n, 1), then we can simply do a dot product and get the exact same result."
   ]
  },
  {
   "cell_type": "code",
   "execution_count": 28,
   "metadata": {},
   "outputs": [
    {
     "name": "stdout",
     "output_type": "stream",
     "text": [
      "CPU times: total: 0 ns\n",
      "Wall time: 3.84 ms\n"
     ]
    },
    {
     "data": {
      "text/plain": [
       "array([[ 297.53869206],\n",
       "       [2355.2612594 ],\n",
       "       [ 483.03124181],\n",
       "       [ 540.68145616],\n",
       "       [ 545.99060154],\n",
       "       [ 392.64198135],\n",
       "       [1073.26077315],\n",
       "       [1135.35760433],\n",
       "       [1173.09905546],\n",
       "       [1530.41425322]])"
      ]
     },
     "execution_count": 28,
     "metadata": {},
     "output_type": "execute_result"
    }
   ],
   "source": [
    "%%time\n",
    "all_predictions = X @ weights #dot product\n",
    "\n",
    "all_predictions[0:10]"
   ]
  },
  {
   "cell_type": "code",
   "execution_count": 29,
   "metadata": {},
   "outputs": [
    {
     "data": {
      "text/plain": [
       "(20640, 1)"
      ]
     },
     "execution_count": 29,
     "metadata": {},
     "output_type": "execute_result"
    }
   ],
   "source": [
    "all_predictions.shape"
   ]
  },
  {
   "cell_type": "code",
   "execution_count": 30,
   "metadata": {},
   "outputs": [
    {
     "data": {
      "text/plain": [
       "(20640, 8)"
      ]
     },
     "execution_count": 30,
     "metadata": {},
     "output_type": "execute_result"
    }
   ],
   "source": [
    "X.shape"
   ]
  },
  {
   "cell_type": "code",
   "execution_count": null,
   "metadata": {},
   "outputs": [],
   "source": [
    "## The resulting shape of array after dot product of array_1 and array_2 will be array_1.shape[0] * array_2.shape[1]\n",
    "## Because each row of first array multiply with each column of 2nd array.\n",
    "#Example: in our case X has shape of (20640,8) and weights has shape of (8,1)"
   ]
  },
  {
   "cell_type": "markdown",
   "metadata": {},
   "source": [
    "## Object-Oriented Programming in Python\n",
    "We will not be going into the details of OOP, that is an entire topic that requires a lot of theory, we will just be sticking to the basics for now. The first step in Object Oriented Programming is creating a **class**. A class is like a blueprint for how something should be defined. Once a class is defined, we can create **objects** of that class, which have all the essential *things* that are required in that class. What are those *things*?\n",
    "\n",
    "Firstly, every class has some **attributes**, which are simply variables that exist within the class. Beyond that, a class can have **methods**, which are functions that only the class has access to.\n",
    "\n",
    "The essentials for creating a class are:\n",
    "- An \\_\\_init\\_\\_ function that is run whenever an object is created. The attributes created here are called *instance attributes*\n",
    "- Other attributes can be created outside the \\_\\_init\\_\\_ function "
   ]
  },
  {
   "cell_type": "code",
   "execution_count": 38,
   "metadata": {},
   "outputs": [],
   "source": [
    "class Dog:\n",
    "\n",
    "    def __init__(self, name, age):\n",
    "        self.name = name\n",
    "        self.age = age\n",
    "    \n",
    "    species = \"unknown\"\n",
    "    def print_attr(self):\n",
    "        print(self.name)\n",
    "        print(self.age)\n",
    "        print(self.species)\n",
    "        "
   ]
  },
  {
   "cell_type": "code",
   "execution_count": 39,
   "metadata": {},
   "outputs": [
    {
     "name": "stdout",
     "output_type": "stream",
     "text": [
      "Rambo\n",
      "5\n",
      "unknown\n"
     ]
    }
   ],
   "source": [
    "kutta = Dog(\"Rambo\", 5)\n",
    "kutta.print_attr()"
   ]
  },
  {
   "cell_type": "markdown",
   "metadata": {},
   "source": [
    "If you ever want to know what attributes exist in a class (let's say you are using a scikit-learn class), you can use the built-in function called *dir()*"
   ]
  },
  {
   "cell_type": "code",
   "execution_count": 37,
   "metadata": {},
   "outputs": [
    {
     "data": {
      "text/plain": [
       "mappingproxy({'__module__': '__main__',\n",
       "              '__init__': <function __main__.Dog.__init__(self, name, age)>,\n",
       "              'print_attr': <function __main__.Dog.print_attr(self)>,\n",
       "              '__dict__': <attribute '__dict__' of 'Dog' objects>,\n",
       "              '__weakref__': <attribute '__weakref__' of 'Dog' objects>,\n",
       "              '__doc__': None})"
      ]
     },
     "execution_count": 37,
     "metadata": {},
     "output_type": "execute_result"
    }
   ],
   "source": [
    "dir(Dog)\n",
    "Dog.__dict__"
   ]
  },
  {
   "cell_type": "markdown",
   "metadata": {},
   "source": [
    "It simply created a dictionary of the object and its attributes and returned it to us! This can be useful if we want to inspect the attributes of a particular class or store them."
   ]
  },
  {
   "cell_type": "code",
   "execution_count": 40,
   "metadata": {},
   "outputs": [],
   "source": [
    "from sklearn.linear_model import LinearRegression"
   ]
  },
  {
   "cell_type": "code",
   "execution_count": 42,
   "metadata": {},
   "outputs": [
    {
     "data": {
      "text/plain": [
       "mappingproxy({'__module__': 'sklearn.linear_model._base',\n",
       "              '__annotations__': {'_parameter_constraints': dict},\n",
       "              '__doc__': '\\n    Ordinary least squares Linear Regression.\\n\\n    LinearRegression fits a linear model with coefficients w = (w1, ..., wp)\\n    to minimize the residual sum of squares between the observed targets in\\n    the dataset, and the targets predicted by the linear approximation.\\n\\n    Parameters\\n    ----------\\n    fit_intercept : bool, default=True\\n        Whether to calculate the intercept for this model. If set\\n        to False, no intercept will be used in calculations\\n        (i.e. data is expected to be centered).\\n\\n    copy_X : bool, default=True\\n        If True, X will be copied; else, it may be overwritten.\\n\\n    n_jobs : int, default=None\\n        The number of jobs to use for the computation. This will only provide\\n        speedup in case of sufficiently large problems, that is if firstly\\n        `n_targets > 1` and secondly `X` is sparse or if `positive` is set\\n        to `True`. ``None`` means 1 unless in a\\n        :obj:`joblib.parallel_backend` context. ``-1`` means using all\\n        processors. See :term:`Glossary <n_jobs>` for more details.\\n\\n    positive : bool, default=False\\n        When set to ``True``, forces the coefficients to be positive. This\\n        option is only supported for dense arrays.\\n\\n        .. versionadded:: 0.24\\n\\n    Attributes\\n    ----------\\n    coef_ : array of shape (n_features, ) or (n_targets, n_features)\\n        Estimated coefficients for the linear regression problem.\\n        If multiple targets are passed during the fit (y 2D), this\\n        is a 2D array of shape (n_targets, n_features), while if only\\n        one target is passed, this is a 1D array of length n_features.\\n\\n    rank_ : int\\n        Rank of matrix `X`. Only available when `X` is dense.\\n\\n    singular_ : array of shape (min(X, y),)\\n        Singular values of `X`. Only available when `X` is dense.\\n\\n    intercept_ : float or array of shape (n_targets,)\\n        Independent term in the linear model. Set to 0.0 if\\n        `fit_intercept = False`.\\n\\n    n_features_in_ : int\\n        Number of features seen during :term:`fit`.\\n\\n        .. versionadded:: 0.24\\n\\n    feature_names_in_ : ndarray of shape (`n_features_in_`,)\\n        Names of features seen during :term:`fit`. Defined only when `X`\\n        has feature names that are all strings.\\n\\n        .. versionadded:: 1.0\\n\\n    See Also\\n    --------\\n    Ridge : Ridge regression addresses some of the\\n        problems of Ordinary Least Squares by imposing a penalty on the\\n        size of the coefficients with l2 regularization.\\n    Lasso : The Lasso is a linear model that estimates\\n        sparse coefficients with l1 regularization.\\n    ElasticNet : Elastic-Net is a linear regression\\n        model trained with both l1 and l2 -norm regularization of the\\n        coefficients.\\n\\n    Notes\\n    -----\\n    From the implementation point of view, this is just plain Ordinary\\n    Least Squares (scipy.linalg.lstsq) or Non Negative Least Squares\\n    (scipy.optimize.nnls) wrapped as a predictor object.\\n\\n    Examples\\n    --------\\n    >>> import numpy as np\\n    >>> from sklearn.linear_model import LinearRegression\\n    >>> X = np.array([[1, 1], [1, 2], [2, 2], [2, 3]])\\n    >>> # y = 1 * x_0 + 2 * x_1 + 3\\n    >>> y = np.dot(X, np.array([1, 2])) + 3\\n    >>> reg = LinearRegression().fit(X, y)\\n    >>> reg.score(X, y)\\n    1.0\\n    >>> reg.coef_\\n    array([1., 2.])\\n    >>> reg.intercept_\\n    3.0...\\n    >>> reg.predict(np.array([[3, 5]]))\\n    array([16.])\\n    ',\n",
       "              '_parameter_constraints': {'fit_intercept': ['boolean'],\n",
       "               'copy_X': ['boolean'],\n",
       "               'n_jobs': [None, numbers.Integral],\n",
       "               'positive': ['boolean']},\n",
       "              '__init__': <function sklearn.linear_model._base.LinearRegression.__init__(self, *, fit_intercept=True, copy_X=True, n_jobs=None, positive=False)>,\n",
       "              'fit': <function sklearn.linear_model._base.LinearRegression.fit(self, X, y, sample_weight=None)>,\n",
       "              'set_fit_request': <sklearn.utils._metadata_requests.RequestMethod at 0x17a0de06880>,\n",
       "              'set_score_request': <sklearn.utils._metadata_requests.RequestMethod at 0x17a0de06340>,\n",
       "              '__abstractmethods__': frozenset(),\n",
       "              '_abc_impl': <_abc_data at 0x17a0de1de10>})"
      ]
     },
     "execution_count": 42,
     "metadata": {},
     "output_type": "execute_result"
    }
   ],
   "source": [
    "dir(LinearRegression)\n",
    "LinearRegression.__dict__\n",
    "## all the parameters starts with underscore : _ are internally uses by sklearn to run linear regression model"
   ]
  },
  {
   "cell_type": "markdown",
   "metadata": {},
   "source": [
    "### Static Methods vs Instance Methods\n",
    "Have you noticed how there are a lot of scikit-learn functions that we can use without necessarily instantiating an object? These are called static methods. To run these, we do not need to create an object, we can simply use the class name to run those methods. See the example below!"
   ]
  },
  {
   "cell_type": "code",
   "execution_count": 54,
   "metadata": {},
   "outputs": [],
   "source": [
    "class Random_function():\n",
    "\n",
    "    @staticmethod\n",
    "    def print_hello_world():\n",
    "        print(\"Hello World\")\n",
    "\n",
    "    def instance_method(self):\n",
    "        print(self)\n",
    "\n",
    "\n",
    "# Static methods are those which we can call without instantiating an object which is random_function in our case see examples below"
   ]
  },
  {
   "cell_type": "code",
   "execution_count": 45,
   "metadata": {},
   "outputs": [
    {
     "name": "stdout",
     "output_type": "stream",
     "text": [
      "Hello World\n"
     ]
    }
   ],
   "source": [
    "Random_function.print_hello_world()"
   ]
  },
  {
   "cell_type": "code",
   "execution_count": 46,
   "metadata": {},
   "outputs": [
    {
     "ename": "TypeError",
     "evalue": "instance_method() missing 1 required positional argument: 'self'",
     "output_type": "error",
     "traceback": [
      "\u001b[1;31m---------------------------------------------------------------------------\u001b[0m",
      "\u001b[1;31mTypeError\u001b[0m                                 Traceback (most recent call last)",
      "Cell \u001b[1;32mIn[46], line 1\u001b[0m\n\u001b[1;32m----> 1\u001b[0m \u001b[43mRandom_function\u001b[49m\u001b[38;5;241;43m.\u001b[39;49m\u001b[43minstance_method\u001b[49m\u001b[43m(\u001b[49m\u001b[43m)\u001b[49m\n",
      "\u001b[1;31mTypeError\u001b[0m: instance_method() missing 1 required positional argument: 'self'"
     ]
    }
   ],
   "source": [
    "Random_function.instance_method()"
   ]
  },
  {
   "cell_type": "code",
   "execution_count": 50,
   "metadata": {},
   "outputs": [],
   "source": [
    "some_object = Random_function()"
   ]
  },
  {
   "cell_type": "code",
   "execution_count": 53,
   "metadata": {},
   "outputs": [
    {
     "name": "stdout",
     "output_type": "stream",
     "text": [
      "<__main__.Random_function object at 0x0000017A0BBF5CA0>\n"
     ]
    }
   ],
   "source": [
    "some_object.instance_method()"
   ]
  },
  {
   "cell_type": "markdown",
   "metadata": {},
   "source": [
    "This is how we are able to use functions such as \"train_test_split\" without creating any sort of scikit-learn object. We simply import the library (the class), or we import specific methods that we can use. \n",
    "\n",
    "Did you notice how when we created an object, the *self* parameter was automatically provided? This is precisely the difference between a static method and an instance method"
   ]
  },
  {
   "cell_type": "markdown",
   "metadata": {},
   "source": [
    "## The Linear Regression Class\n",
    "This is something we can code up from the ground up! But before we get into this, let's figure out all the steps required to make Linear Regression work.\n",
    "\n",
    "The first is the .predict() luckily we already know how to make this. \n",
    "\n",
    "The second most important thing is the .fit(). Let's do a small recap of how gradient descent works using the Root Means Squared loss function."
   ]
  },
  {
   "cell_type": "markdown",
   "metadata": {},
   "source": [
    "### Gradient Descent process\n",
    "There are many resources out there to understand Gradient Descent intuitively. We, however, will be focusing on converting the mathemetical equations of gradient descent to code. In its most simplest form, gradient descent can be carried out in two steps. \n",
    "1. Calculate the derivative of the loss function with respect to each weight\n",
    "2. Update each weight\n",
    "\n",
    "Let's dive into each of these using the Mean Squared Error function"
   ]
  },
  {
   "attachments": {
    "image-3.png": {
     "image/png": "[encoded data removed]"
    }
   },
   "cell_type": "markdown",
   "metadata": {},
   "source": [
    "####  Mean Squared Error\n",
    "The equation is as follows:\n",
    "\n",
    "![image-3.png](attachment:image-3.png)"
   ]
  },
  {
   "cell_type": "markdown",
   "metadata": {},
   "source": [
    "As you can probably tell, all this is doing is that it is finding the difference between each prediction and true value, squaring it, and then finding the mean (with an extra factor of 2 in the denominator). How would this look in code?"
   ]
  },
  {
   "cell_type": "code",
   "execution_count": 61,
   "metadata": {},
   "outputs": [],
   "source": [
    "Y = np.array([1, 0, 0, 1])\n",
    "Y_Prediction = np.array([1, 0, 0, 0])"
   ]
  },
  {
   "cell_type": "code",
   "execution_count": 75,
   "metadata": {},
   "outputs": [
    {
     "data": {
      "text/plain": [
       "0.25"
      ]
     },
     "execution_count": 75,
     "metadata": {},
     "output_type": "execute_result"
    }
   ],
   "source": [
    "#using for loop\n",
    "total = 0\n",
    "for true_value, pred_value in zip(Y, Y_Prediction):\n",
    "    total = (true_value - pred_value)**2\n",
    "\n",
    "total/len(Y) # to calculate mean\n"
   ]
  },
  {
   "cell_type": "code",
   "execution_count": 76,
   "metadata": {},
   "outputs": [],
   "source": [
    "# using vectorise operation\n",
    "def sample_mse_function(Y, Y_pred):\n",
    "    return np.mean((Y - Y_pred) ** 2)\n"
   ]
  },
  {
   "cell_type": "code",
   "execution_count": 77,
   "metadata": {},
   "outputs": [
    {
     "data": {
      "text/plain": [
       "0.25"
      ]
     },
     "execution_count": 77,
     "metadata": {},
     "output_type": "execute_result"
    }
   ],
   "source": [
    "sample_mse_function(Y ,Y_Prediction)"
   ]
  },
  {
   "attachments": {
    "image.png": {
     "image/png": "[encoded data removed]"
    }
   },
   "cell_type": "markdown",
   "metadata": {},
   "source": [
    "#### MSE Derivative\n",
    "We will not go into how we get to this derivative. If you are interested you can have a look at [this link](https://towardsdatascience.com/gradient-descent-from-scratch-e8b75fa986cc). However, the formula is as follows:\n",
    "\n",
    "![image.png](attachment:image.png)"
   ]
  },
  {
   "cell_type": "markdown",
   "metadata": {},
   "source": [
    "Let's try to dissect what is happening here. For each weight, we are multiplying the data point associated with that weight, with the difference between the predicted values and the real values. This sounds awful lot like a dot product. \n",
    "\n",
    "Consider this, if our X is a dataset of shape (n, m) where we have *n* data points and *m* features, then our Y values would be of size (n, 1), and our weights would be of size (m, 1). Thus, to get the partial derivative, we know that the shape of the partial derivative should be (m, 1). This gives us our first hint. The second thing we notice is that **for a particular weight** only the relevant data point is multiplied by the value of the difference. We'll look at this in more detail below"
   ]
  },
  {
   "cell_type": "code",
   "execution_count": 66,
   "metadata": {},
   "outputs": [
    {
     "data": {
      "text/plain": [
       "(4, 3)"
      ]
     },
     "execution_count": 66,
     "metadata": {},
     "output_type": "execute_result"
    }
   ],
   "source": [
    "X = np.array([[2, 3, 4], [1, 2, 3], [5, 6, 7], [10, 11, 12]])\n",
    "\n",
    "X.shape"
   ]
  },
  {
   "cell_type": "code",
   "execution_count": 68,
   "metadata": {},
   "outputs": [
    {
     "data": {
      "text/plain": [
       "array([[ 2,  3,  4],\n",
       "       [ 1,  2,  3],\n",
       "       [ 5,  6,  7],\n",
       "       [10, 11, 12]])"
      ]
     },
     "execution_count": 68,
     "metadata": {},
     "output_type": "execute_result"
    }
   ],
   "source": [
    "X\n",
    "\n",
    "#Our toy data has 3 features, and 4 data points. Let's keep that in mind. Time to initialize the weights! \n",
    "# Our weights should be of length 3 for our example here."
   ]
  },
  {
   "cell_type": "code",
   "execution_count": 67,
   "metadata": {},
   "outputs": [
    {
     "data": {
      "text/plain": [
       "array([[1.],\n",
       "       [1.],\n",
       "       [1.]])"
      ]
     },
     "execution_count": 67,
     "metadata": {},
     "output_type": "execute_result"
    }
   ],
   "source": [
    "weights = np.ones(shape=(X.shape[1], 1))\n",
    "\n",
    "weights"
   ]
  },
  {
   "cell_type": "code",
   "execution_count": 78,
   "metadata": {},
   "outputs": [
    {
     "data": {
      "text/plain": [
       "array([[ 9.],\n",
       "       [ 6.],\n",
       "       [18.],\n",
       "       [33.]])"
      ]
     },
     "execution_count": 78,
     "metadata": {},
     "output_type": "execute_result"
    }
   ],
   "source": [
    "#Now let's get our predictions.\n",
    "Y_pred = X @ weights\n",
    "\n",
    "Y_pred"
   ]
  },
  {
   "cell_type": "markdown",
   "metadata": {},
   "source": [
    "Let's calculate the loss here, so we can compare it later"
   ]
  },
  {
   "cell_type": "code",
   "execution_count": 79,
   "metadata": {},
   "outputs": [
    {
     "data": {
      "text/plain": [
       "(4, 1)"
      ]
     },
     "execution_count": 79,
     "metadata": {},
     "output_type": "execute_result"
    }
   ],
   "source": [
    "# Randomly choosing values for Y_true\n",
    "Y_true = np.array([[8], [7], [19], [32]])\n",
    "\n",
    "Y_true.shape"
   ]
  },
  {
   "cell_type": "code",
   "execution_count": 80,
   "metadata": {},
   "outputs": [
    {
     "data": {
      "text/plain": [
       "1.0"
      ]
     },
     "execution_count": 80,
     "metadata": {},
     "output_type": "execute_result"
    }
   ],
   "source": [
    "sample_mse_function(Y_true, Y_pred)"
   ]
  },
  {
   "cell_type": "markdown",
   "metadata": {},
   "source": [
    "Now let's actually implement the function! The most important thing when dealing with linear algebra in Python is to keep a track of the *shapes* of the matrices, and keep in mind what our goals are. We will see this in action"
   ]
  },
  {
   "cell_type": "code",
   "execution_count": 81,
   "metadata": {},
   "outputs": [
    {
     "data": {
      "text/plain": [
       "array([[-1.],\n",
       "       [ 1.],\n",
       "       [ 1.],\n",
       "       [-1.]])"
      ]
     },
     "execution_count": 81,
     "metadata": {},
     "output_type": "execute_result"
    }
   ],
   "source": [
    "difference = Y_true - Y_pred\n",
    "\n",
    "difference"
   ]
  },
  {
   "cell_type": "code",
   "execution_count": 82,
   "metadata": {},
   "outputs": [
    {
     "data": {
      "text/plain": [
       "array([[ 2,  3,  4],\n",
       "       [ 1,  2,  3],\n",
       "       [ 5,  6,  7],\n",
       "       [10, 11, 12]])"
      ]
     },
     "execution_count": 82,
     "metadata": {},
     "output_type": "execute_result"
    }
   ],
   "source": [
    "X"
   ]
  },
  {
   "cell_type": "markdown",
   "metadata": {},
   "source": [
    "Let us intuitively look at what we want to do. According to the equation above, we want to multiply the entire first column with the difference, and then divide it by *n*. We want to repeat this for all the columns, and eventually we can get a matrix of shape (m, 1), or in this case, (3, 1).\n",
    "\n",
    "How do we do this? We simply take the transpose of X, and then we can do a simple dot product"
   ]
  },
  {
   "cell_type": "code",
   "execution_count": 83,
   "metadata": {},
   "outputs": [
    {
     "data": {
      "text/plain": [
       "array([[ 2,  1,  5, 10],\n",
       "       [ 3,  2,  6, 11],\n",
       "       [ 4,  3,  7, 12]])"
      ]
     },
     "execution_count": 83,
     "metadata": {},
     "output_type": "execute_result"
    }
   ],
   "source": [
    "X.T"
   ]
  },
  {
   "cell_type": "code",
   "execution_count": 85,
   "metadata": {},
   "outputs": [
    {
     "data": {
      "text/plain": [
       "array([[6.],\n",
       "       [6.],\n",
       "       [6.]])"
      ]
     },
     "execution_count": 85,
     "metadata": {},
     "output_type": "execute_result"
    }
   ],
   "source": [
    "partial_derivative = -X.T @ difference\n",
    "partial_derivative"
   ]
  },
  {
   "cell_type": "markdown",
   "metadata": {},
   "source": [
    "#### Weight update equation\n",
    "This is the simplest bit. All we have to do is update the weights by subtracting the partial derivative from the weights after multiplying it with the learning rate"
   ]
  },
  {
   "cell_type": "code",
   "execution_count": 86,
   "metadata": {},
   "outputs": [
    {
     "data": {
      "text/plain": [
       "array([[0.994],\n",
       "       [0.994],\n",
       "       [0.994]])"
      ]
     },
     "execution_count": 86,
     "metadata": {},
     "output_type": "execute_result"
    }
   ],
   "source": [
    "learning_rate = 0.001\n",
    "weights -= learning_rate*partial_derivative\n",
    "\n",
    "weights"
   ]
  },
  {
   "cell_type": "markdown",
   "metadata": {},
   "source": [
    "Let's see if our loss got any better?"
   ]
  },
  {
   "cell_type": "code",
   "execution_count": 87,
   "metadata": {},
   "outputs": [
    {
     "data": {
      "text/plain": [
       "0.9597699999999988"
      ]
     },
     "execution_count": 87,
     "metadata": {},
     "output_type": "execute_result"
    }
   ],
   "source": [
    "sample_mse_function(Y_true, X@weights)"
   ]
  },
  {
   "cell_type": "markdown",
   "metadata": {},
   "source": [
    "In just one iteration, we reduce our loss by 0.05. "
   ]
  },
  {
   "attachments": {
    "image-2.png": {
     "image/png": "[encoded data removed]"
    },
    "image.png": {
     "image/png": "[encoded data removed]"
    }
   },
   "cell_type": "markdown",
   "metadata": {},
   "source": [
    "#### Mean Absolute Error\n",
    "Another popular loss function is the Mean Absolute Error function. We will go over this because the derivative of the MAE function is a step-wise function, which has to be programmed in a slightly different way. The equation for MAE is:\n",
    "![image.png](attachment:image.png)\n",
    "\n",
    "\n",
    "The interesting thing here is that the MAE is not differentiable at y_true == y_pred. However, you can create a step-wise function as follows:\n",
    "![image-2.png](attachment:image-2.png)\n"
   ]
  },
  {
   "cell_type": "markdown",
   "metadata": {},
   "source": [
    "Now this may look very complicated, but step-wise functions are much easier to program than other functions! All we have to do is that if the prediction is greater than the true value, we have to put in a 1, if the prediction is smaller, we have to put in a 0. However, what do we do if the prediction is exactly the same as the true value? **Hint:** If the prediction and the true value is the same, do we want to change our weight? No, thus, if they are the same, we should keep it as zero. Let's have a look at how to implement these functions"
   ]
  },
  {
   "cell_type": "code",
   "execution_count": 88,
   "metadata": {},
   "outputs": [],
   "source": [
    "def sample_mean_absolute_error(Y, Y_pred):\n",
    "    return np.mean(np.absolute(Y - Y_pred))"
   ]
  },
  {
   "cell_type": "markdown",
   "metadata": {},
   "source": [
    "There are many ways to implement a step-wise function using numpy. The most basic would be to write small functions and apply them across the entire matrix. However, a much simpler way is to use the [np.where](https://numpy.org/doc/stable/reference/generated/numpy.where.html) function. "
   ]
  },
  {
   "cell_type": "code",
   "execution_count": 89,
   "metadata": {},
   "outputs": [
    {
     "data": {
      "text/plain": [
       "array([0, 0, 3, 4, 5])"
      ]
     },
     "execution_count": 89,
     "metadata": {},
     "output_type": "execute_result"
    }
   ],
   "source": [
    "a = np.array([1, 2, 3, 4, 5])\n",
    "\n",
    "# First parameter is the condition\n",
    "# Second parameter is the value if true\n",
    "# Third parameter is the value if false\n",
    "np.where(a < 3, 0, a)"
   ]
  },
  {
   "cell_type": "code",
   "execution_count": 90,
   "metadata": {},
   "outputs": [],
   "source": [
    "def sample_mae_derivative(X, Y, Y_pred):\n",
    "    # Get the difference\n",
    "    difference = Y_pred - Y\n",
    "\n",
    "    # If difference is 0, then substitute the values with 0, otherwise keep the same value i.e. predicted value = actual value\n",
    "    abs_derivative = np.where(difference == 0, 0, difference)\n",
    "    \n",
    "    # If the difference is positive, that means Y_pred > Y\n",
    "    abs_derivative = np.where(abs_derivative > 0, 1, abs_derivative)\n",
    "    \n",
    "    # If the difference is negative, that means Y_pred < Y\n",
    "    abs_derivative = np.where(abs_derivative < 0, -1, abs_derivative)\n",
    "    return X.T @ abs_derivative"
   ]
  },
  {
   "cell_type": "code",
   "execution_count": 91,
   "metadata": {},
   "outputs": [
    {
     "data": {
      "text/plain": [
       "array([[ 9.],\n",
       "       [ 6.],\n",
       "       [18.],\n",
       "       [33.]])"
      ]
     },
     "metadata": {},
     "output_type": "display_data"
    },
    {
     "data": {
      "text/plain": [
       "array([[ 7],\n",
       "       [ 6],\n",
       "       [20],\n",
       "       [30]])"
      ]
     },
     "metadata": {},
     "output_type": "display_data"
    }
   ],
   "source": [
    "X = np.array([[2, 3, 4], [1, 2, 3], [5, 6, 7], [10, 11, 12]])\n",
    "weights = np.ones(shape=(X.shape[1], 1))\n",
    "Y_pred = X@weights\n",
    "Y_true = np.array([[7], [6], [20], [30]])\n",
    "\n",
    "display(Y_pred)\n",
    "display(Y_true)"
   ]
  },
  {
   "cell_type": "code",
   "execution_count": 92,
   "metadata": {},
   "outputs": [
    {
     "data": {
      "text/plain": [
       "1.75"
      ]
     },
     "execution_count": 92,
     "metadata": {},
     "output_type": "execute_result"
    }
   ],
   "source": [
    "sample_mean_absolute_error(Y_true, Y_pred)"
   ]
  },
  {
   "cell_type": "code",
   "execution_count": 93,
   "metadata": {},
   "outputs": [
    {
     "data": {
      "text/plain": [
       "array([[7.],\n",
       "       [8.],\n",
       "       [9.]])"
      ]
     },
     "execution_count": 93,
     "metadata": {},
     "output_type": "execute_result"
    }
   ],
   "source": [
    "partial_derivative = sample_mae_derivative(X, Y_true, Y_pred)\n",
    "\n",
    "partial_derivative"
   ]
  },
  {
   "cell_type": "code",
   "execution_count": 94,
   "metadata": {},
   "outputs": [
    {
     "data": {
      "text/plain": [
       "1.713999999999999"
      ]
     },
     "execution_count": 94,
     "metadata": {},
     "output_type": "execute_result"
    }
   ],
   "source": [
    "weights -= 0.001 * partial_derivative\n",
    "Y_pred = X@weights\n",
    "sample_mean_absolute_error(Y_true, Y_pred)"
   ]
  },
  {
   "cell_type": "markdown",
   "metadata": {},
   "source": [
    "### Putting it all together"
   ]
  },
  {
   "cell_type": "code",
   "execution_count": 99,
   "metadata": {},
   "outputs": [],
   "source": [
    "class LinearRegression():\n",
    "    def __init__(self, \n",
    "                 loss_function= 'mse', max_iter=1000, learning_rate = 0.001,\n",
    "                fit_intercept=True, tolerance=0.001):\n",
    "        # Before we know the shape of the data, we cannot initialize weights\n",
    "        self._weights = None\n",
    "        self._max_iter = max_iter\n",
    "        self._learning_rate = learning_rate\n",
    "        self._fit_intercept = fit_intercept\n",
    "        self._tolerance = tolerance\n",
    "        self._loss_function = loss_function\n",
    "        self._loss_dict = {\n",
    "            'mse': self.mean_squared_loss,\n",
    "            'abs': self.mean_absolute_loss,\n",
    "        }\n",
    "        self._derivative_dict = {\n",
    "            'mse': self.mean_squared_loss_derivative,\n",
    "            'abs': self.mean_absolute_loss_derivative,\n",
    "        }\n",
    "        self._loss_history = None\n",
    "        self._weights_history = None\n",
    "        \n",
    "    # Trailing underscore indicates that a method is for internal use\n",
    "    def _init_weights(self, num_features):\n",
    "        # It is good practice to use a normal distribution with mean 0 for weight initialization\n",
    "        # There are more complicated methods too! But this works\n",
    "        self._weights = np.random.normal(size=(num_features,1))\n",
    "        \n",
    "    def fit(self, X, Y):\n",
    "        assert len(X) == len(Y), \"X and Y should be the same length\"\n",
    "        # If we want to add a \"bias\" term, or y_intercept\n",
    "        if self._fit_intercept:\n",
    "            X = np.concatenate((X, np.ones(shape=(len(X), 1))), axis=1)\n",
    "        \n",
    "        # Initialize the weights\n",
    "        self._init_weights(X.shape[1])\n",
    "        \n",
    "        # Initialize two lists to store the history\n",
    "        loss_history = []\n",
    "        weights_history = []\n",
    "        \n",
    "        # Used for early stopping on model convergence\n",
    "        previous_loss = np.inf\n",
    "        converged = False\n",
    "        for i in range(self._max_iter):\n",
    "            # Get Prediction\n",
    "            Y_pred = self.predict(X)\n",
    "            \n",
    "            # Calculate loss to monitor preformance\n",
    "            loss = self._loss_dict[self._loss_function](Y, Y_pred)\n",
    "\n",
    "            # Stop Gradient Descent if model has converged\n",
    "            if np.abs(loss - previous_loss) < self._tolerance:\n",
    "                converged = True\n",
    "                break\n",
    "            previous_loss = loss\n",
    "            \n",
    "            loss_history.append(loss)\n",
    "            # Because a Numpy Array is an object that gets updated each time\n",
    "            # We need to use .copy() to append it to get the weights\n",
    "            weights_history.append(self._weights.reshape(-1).copy())\n",
    "            \n",
    "            # Calculate Partial Derivative\n",
    "            partial_derivative = self._derivative_dict[self._loss_function](X, Y, Y_pred)\n",
    "            \n",
    "            # Update the weights\n",
    "            self._weights -= self._learning_rate * partial_derivative\n",
    "    \n",
    "        if converged:\n",
    "            print(\"Model Converged\")\n",
    "        else:\n",
    "            print(\"Warning: Max iterations reached, model did not converge\")\n",
    "        \n",
    "        self._loss_history = np.array(loss_history)\n",
    "        self._weights_history = np.array(weights_history)\n",
    "        \n",
    "    def predict(self, X):\n",
    "        Y_pred = X @ self._weights\n",
    "        return Y_pred\n",
    "\n",
    "    def get_coefficients(self):\n",
    "        return self._weights\n",
    "    \n",
    "    def get_training_history(self):\n",
    "        return self._loss_history, self._weights_history\n",
    "    \n",
    "    # MSE Losses\n",
    "    @staticmethod\n",
    "    def mean_squared_loss(Y, Y_pred):\n",
    "        return np.mean((Y - Y_pred)**2)\n",
    "    \n",
    "    def mean_squared_loss_derivative(self, X, Y, Y_pred):\n",
    "        return (-X.T @ (Y - Y_pred)) / len(X)\n",
    "    \n",
    "    # Absolute Losses\n",
    "    @staticmethod\n",
    "    def mean_absolute_loss(Y, Y_pred):\n",
    "        return np.mean(np.absolute(Y-Y_pred))\n",
    "    \n",
    "    def mean_absolute_loss_derivative(self, X, Y, Y_pred):\n",
    "        difference = Y_pred - Y\n",
    "        # If difference is 0, then substitute the values with 0, otherwise keep the same value\n",
    "        abs_derivative = np.where(difference == 0, 0, difference)\n",
    "        # If the difference is positive, that means Y_pred > Y\n",
    "        abs_derivative = np.where(abs_derivative > 0, 1, abs_derivative)\n",
    "        # If the difference is negative, that means Y_pred < Y\n",
    "        abs_derivative = np.where(abs_derivative < 0, -1, abs_derivative)\n",
    "        return X.T @ abs_derivative"
   ]
  },
  {
   "cell_type": "code",
   "execution_count": 96,
   "metadata": {},
   "outputs": [],
   "source": [
    "from sklearn.preprocessing import StandardScaler"
   ]
  },
  {
   "cell_type": "code",
   "execution_count": 97,
   "metadata": {},
   "outputs": [
    {
     "name": "stdout",
     "output_type": "stream",
     "text": [
      "(20640, 8)\n",
      "(20640, 1)\n"
     ]
    }
   ],
   "source": [
    "Y = data[['PRICE']].to_numpy()\n",
    "X = data[cali.feature_names].to_numpy()\n",
    "scaler = StandardScaler()\n",
    "X = scaler.fit_transform(X)\n",
    "print(X.shape)\n",
    "print(Y.shape)"
   ]
  },
  {
   "cell_type": "code",
   "execution_count": 100,
   "metadata": {},
   "outputs": [],
   "source": [
    "Regressor = LinearRegression(loss_function='mse', learning_rate=0.01)"
   ]
  },
  {
   "cell_type": "code",
   "execution_count": 101,
   "metadata": {},
   "outputs": [
    {
     "name": "stdout",
     "output_type": "stream",
     "text": [
      "Model Converged\n"
     ]
    }
   ],
   "source": [
    "Regressor.fit(X, Y)"
   ]
  },
  {
   "cell_type": "code",
   "execution_count": 102,
   "metadata": {},
   "outputs": [
    {
     "name": "stdout",
     "output_type": "stream",
     "text": [
      "(245,)\n",
      "(245, 9)\n"
     ]
    }
   ],
   "source": [
    "loss_history, weights_history = Regressor.get_training_history()\n",
    "print(loss_history.shape)\n",
    "print(weights_history.shape)"
   ]
  },
  {
   "cell_type": "code",
   "execution_count": 103,
   "metadata": {},
   "outputs": [
    {
     "data": {
      "image/png": "[encoded data removed]",
      "text/plain": [
       "<Figure size 960x720 with 1 Axes>"
      ]
     },
     "metadata": {},
     "output_type": "display_data"
    }
   ],
   "source": [
    "plt.figure(dpi=150)\n",
    "iterations = range(1, len(loss_history) + 1)\n",
    "plt.title(\"Training Loss\")\n",
    "plt.plot(iterations, loss_history)\n",
    "plt.xlabel(\"Epoch\")\n",
    "plt.ylabel(\"Loss\")\n",
    "plt.show()"
   ]
  },
  {
   "cell_type": "code",
   "execution_count": 104,
   "metadata": {},
   "outputs": [
    {
     "data": {
      "image/png": "[encoded data removed]",
      "text/plain": [
       "<Figure size 960x720 with 1 Axes>"
      ]
     },
     "metadata": {},
     "output_type": "display_data"
    }
   ],
   "source": [
    "plt.figure(dpi=150)\n",
    "plt.title(\"Weight Update\")\n",
    "# for i in range(weights_history.shape[1]):\n",
    "#     plt.plot(iterations, weights_history[:, i])\n",
    "plt.plot(iterations, weights_history[:, 1])\n",
    "plt.xlabel(\"Epoch\")\n",
    "plt.ylabel(\"Weight\")\n",
    "plt.show()"
   ]
  },
  {
   "cell_type": "code",
   "execution_count": null,
   "metadata": {},
   "outputs": [],
   "source": []
  }
 ],
 "metadata": {
  "kernelspec": {
   "display_name": "Python 3",
   "language": "python",
   "name": "python3"
  },
  "language_info": {
   "codemirror_mode": {
    "name": "ipython",
    "version": 3
   },
   "file_extension": ".py",
   "mimetype": "text/x-python",
   "name": "python",
   "nbconvert_exporter": "python",
   "pygments_lexer": "ipython3",
   "version": "3.8.10"
  }
 },
 "nbformat": 4,
 "nbformat_minor": 2
}
